{
 "metadata": {
  "name": "",
  "signature": "sha256:5f1c041025f40132663f6f31080d6cc051b3b8344049a6da3ed516856d6dee83"
 },
 "nbformat": 3,
 "nbformat_minor": 0,
 "worksheets": []
}