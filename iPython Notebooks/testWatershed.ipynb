{
 "metadata": {
  "name": "",
  "signature": "sha256:c7562ee259b33b15837c6969d05f84c4a77c166b795f2b6a7144d416419dff05"
 },
 "nbformat": 3,
 "nbformat_minor": 0,
 "worksheets": [
  {
   "cells": [
    {
     "cell_type": "heading",
     "level": 1,
     "metadata": {},
     "source": [
      "Watershed segmentation"
     ]
    },
    {
     "cell_type": "markdown",
     "metadata": {},
     "source": [
      "The watershed is a classical algorithm used for **segmentation**, that is, for separating different objects in an image.\n",
      "\n",
      "Starting from user-defined markers, the watershed algorithm treats pixels values as a local topography (elevation). The algorithm floods basins from the markers, until basins attributed to different markers meet on watershed lines.  In many cases, markers are chosen as local minima of the image, from which basins are flooded.\n",
      "\n",
      "In the example below, two overlapping circles are to be separated. To do so, one computes an image that is the distance to the background. The maxima of this distance (i.e., the minima of the opposite of the distance) are chosen as markers, and the flooding of basins from such markers separates the two circles along a watershed line.\n",
      "\n",
      "See _Wikipedia_ for more details on the algorithm.\n",
      "\n",
      "_Wikipedia_: http://en.wikipedia.org/wiki/Watershed_(image_processing)\n",
      "\n",
      "\n",
      "Import what we need"
     ]
    },
    {
     "cell_type": "code",
     "collapsed": false,
     "input": [
      "%pylab inline\n",
      "import numpy as np\n",
      "from scipy import ndimage\n",
      "from skimage.morphology import watershed\n",
      "from skimage.feature import peak_local_max"
     ],
     "language": "python",
     "metadata": {},
     "outputs": [
      {
       "output_type": "stream",
       "stream": "stdout",
       "text": [
        "Populating the interactive namespace from numpy and matplotlib\n"
       ]
      }
     ],
     "prompt_number": 1
    },
    {
     "cell_type": "markdown",
     "metadata": {},
     "source": [
      "Generate an initial image with two overlapping circles"
     ]
    },
    {
     "cell_type": "code",
     "collapsed": false,
     "input": [
      "x, y = np.indices((80, 80))\n",
      "x1, y1, x2, y2 = 28, 28, 44, 52\n",
      "r1, r2 = 16, 20\n",
      "mask_circle1 = (x - x1)**2 + (y - y1)**2 < r1**2\n",
      "mask_circle2 = (x - x2)**2 + (y - y2)**2 < r2**2\n",
      "image = np.logical_or(mask_circle1, mask_circle2)\n",
      "plt.imshow(image)\n",
      "f = plt.gcf()\n",
      "f.savefig('ws_orig.png', transparent=False)"
     ],
     "language": "python",
     "metadata": {},
     "outputs": [
      {
       "metadata": {},
       "output_type": "display_data",
       "png": "[encoded data removed]",
       "text": [
        "<matplotlib.figure.Figure at 0x10d3ce610>"
       ]
      }
     ],
     "prompt_number": 2
    },
    {
     "cell_type": "markdown",
     "metadata": {},
     "source": [
      "Now we want to separate the two objects in image. Generate the markers as local maxima of the distance to the background"
     ]
    },
    {
     "cell_type": "code",
     "collapsed": false,
     "input": [
      "distance = ndimage.distance_transform_edt(image)\n",
      "local_maxi = peak_local_max(distance, indices=False, footprint=np.ones((3, 3)), labels=image)\n",
      "markers = ndimage.label(local_maxi)[0]\n",
      "labels = watershed(-distance, markers, mask=image)"
     ],
     "language": "python",
     "metadata": {},
     "outputs": [],
     "prompt_number": 3
    },
    {
     "cell_type": "code",
     "collapsed": false,
     "input": [
      "fig, axes = plt.subplots(ncols=3, figsize=(8, 2.7))\n",
      "ax0, ax1, ax2 = axes\n",
      "ax0.imshow(image, cmap=plt.cm.gray, interpolation='nearest')\n",
      "ax0.set_title('Overlapping objects')\n",
      "ax1.imshow(-distance, cmap=plt.cm.jet, interpolation='nearest')\n",
      "ax1.set_title('Distances')\n",
      "ax2.imshow(labels, cmap=plt.cm.spectral, interpolation='nearest')\n",
      "ax2.set_title('Separated objects')\n",
      "for ax in axes:\n",
      "  ax.axis('off')\n",
      "\n",
      "plt.subplots_adjust(hspace=0.01, wspace=0.01, top=1, bottom=0, left=0, right=1)\n",
      "f = plt.gcf()\n",
      "f.savefig('ws_panel.png', transparent=False)"
     ],
     "language": "python",
     "metadata": {},
     "outputs": [
      {
       "metadata": {},
       "output_type": "display_data",
       "png": "[encoded data removed]",
       "text": [
        "<matplotlib.figure.Figure at 0x10d4b22d0>"
       ]
      }
     ],
     "prompt_number": 4
    }
   ],
   "metadata": {}
  }
 ]
}