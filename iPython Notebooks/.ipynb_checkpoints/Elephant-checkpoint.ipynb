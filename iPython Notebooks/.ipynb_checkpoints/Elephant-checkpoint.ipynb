{
 "metadata": {
  "name": "",
  "signature": "sha256:c767e93358a39bda80c1de03f81b019ce044735a7e5005eb03ea6b63ad8ea6f9"
 },
 "nbformat": 3,
 "nbformat_minor": 0,
 "worksheets": [
  {
   "cells": [
    {
     "cell_type": "heading",
     "level": 1,
     "metadata": {},
     "source": [
      "Draw an elephant"
     ]
    },
    {
     "cell_type": "markdown",
     "metadata": {},
     "source": [
      "Author: Piotr A. Zolnierczuk (zolnierczukp@ornl.gov)\n",
      " \n",
      "Based on a paper by:\n",
      "Drawing an elephant with four complex parameters\n",
      "Jurgen Mayer, Khaled Khairy, and Jonathon Howard,\n",
      "Am. J. Phys. 78, 648 (2010), DOI:10.1119/1.3254017\n",
      " \n",
      "see http://www.johndcook.com/blog/2011/06/21/how-to-fit-an-elephant/"
     ]
    },
    {
     "cell_type": "code",
     "collapsed": false,
     "input": [
      "%pylab inline\n",
      "import numpy as np"
     ],
     "language": "python",
     "metadata": {},
     "outputs": [
      {
       "output_type": "stream",
       "stream": "stdout",
       "text": [
        "Populating the interactive namespace from numpy and matplotlib\n"
       ]
      }
     ],
     "prompt_number": 1
    },
    {
     "cell_type": "markdown",
     "metadata": {},
     "source": [
      "Define the parameters fopr our elephant"
     ]
    },
    {
     "cell_type": "code",
     "collapsed": false,
     "input": [
      "p1, p2, p3, p4 = (50 - 30j, 18 +  8j, 12 - 10j, -14 - 60j )\n",
      "p5 = 40 + 20j # eyepiece"
     ],
     "language": "python",
     "metadata": {},
     "outputs": [],
     "prompt_number": 2
    },
    {
     "cell_type": "markdown",
     "metadata": {},
     "source": [
      "Now define two helper functions"
     ]
    },
    {
     "cell_type": "code",
     "collapsed": false,
     "input": [
      "def fourier(t, C):\n",
      "    f = np.zeros(t.shape)\n",
      "    A, B = C.real, C.imag\n",
      "    for k in range(len(C)):\n",
      "        f = f + A[k]*np.cos(k*t) + B[k]*np.sin(k*t)\n",
      "    return f\n",
      " \n",
      "def elephant(t, p1, p2, p3, p4, p5):\n",
      "    npar = 6\n",
      "    Cx = np.zeros((npar,), dtype='complex')\n",
      "    Cy = np.zeros((npar,), dtype='complex')\n",
      " \n",
      "    Cx[1] = p1.real*1j\n",
      "    Cx[2] = p2.real*1j\n",
      "    Cx[3] = p3.real\n",
      "    Cx[5] = p4.real\n",
      " \n",
      "    Cy[1] = p4.imag + p1.imag*1j\n",
      "    Cy[2] = p2.imag*1j\n",
      "    Cy[3] = p3.imag*1j\n",
      " \n",
      "    x = np.append(fourier(t,Cx), [-p5.imag])\n",
      "    y = np.append(fourier(t,Cy), [p5.imag])\n",
      " \n",
      "    return x,y"
     ],
     "language": "python",
     "metadata": {},
     "outputs": [],
     "prompt_number": 3
    },
    {
     "cell_type": "markdown",
     "metadata": {},
     "source": [
      "Now do the work..."
     ]
    },
    {
     "cell_type": "code",
     "collapsed": false,
     "input": [
      "x, y = elephant(np.linspace(0,2*np.pi,1000), p1, p2, p3, p4, p5)\n",
      "dpi = 72\n",
      "xpixels, ypixels = (640, 480)\n",
      "xinch = float(xpixels)/float(dpi)\n",
      "yinch = float(ypixels)/float(dpi)\n",
      "plt.figure(figsize=(xinch,yinch))\n",
      "plt.plot(y,-x,'.')\n",
      "# plt.show()\n",
      "f = plt.gcf()\n",
      "f.savefig('elephant.png', dpi=dpi, transparent=False)\n",
      "f.savefig('elephant.pdf')"
     ],
     "language": "python",
     "metadata": {},
     "outputs": [
      {
       "metadata": {},
       "output_type": "display_data",
       "png": "[encoded data removed]",
       "text": [
        "<matplotlib.figure.Figure at 0x10a98f320>"
       ]
      }
     ],
     "prompt_number": 4
    }
   ],
   "metadata": {}
  }
 ]
}