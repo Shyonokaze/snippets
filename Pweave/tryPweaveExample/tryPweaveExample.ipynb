{
 "metadata": {
  "name": "",
  "signature": "sha256:3eb4ba64b2e0745333a7a4aeabd2910c7114f61f0ac5b400d20b9d8c3c764a2d"
 },
 "nbformat": 3,
 "nbformat_minor": 0,
 "worksheets": [
  {
   "cells": [
    {
     "cell_type": "code",
     "collapsed": false,
     "input": [
      "import numpy as np\n",
      "import matplotlib.pyplot as plt\n",
      "import scipy.signal as signal\n",
      "#A function to plot frequency and phase response\n",
      "def mfreqz(b,a=1):\n",
      "    w,h = signal.freqz(b,a)\n",
      "    h = abs(h)\n",
      "    return(w/max(w), h)"
     ],
     "language": "python",
     "metadata": {},
     "outputs": [],
     "prompt_number": 1
    },
    {
     "cell_type": "markdown",
     "metadata": {},
     "source": [
      "Make the impulse response function "
     ]
    },
    {
     "cell_type": "code",
     "collapsed": false,
     "input": [
      "n = 11.\n",
      "n\n",
      "b = np.repeat(1/n, n)\n",
      "b"
     ],
     "language": "python",
     "metadata": {},
     "outputs": [
      {
       "metadata": {},
       "output_type": "pyout",
       "prompt_number": 2,
       "text": [
        "array([ 0.09090909,  0.09090909,  0.09090909,  0.09090909,  0.09090909,\n",
        "        0.09090909,  0.09090909,  0.09090909,  0.09090909,  0.09090909,\n",
        "        0.09090909])"
       ]
      }
     ],
     "prompt_number": 2
    },
    {
     "cell_type": "code",
     "collapsed": false,
     "input": [
      "w, h = mfreqz(b)\n",
      "%pylab inline\n",
      "#Plot the function\n",
      "plt.plot(w,h,'k')\n",
      "plt.ylabel('Amplitude')\n",
      "plt.xlabel(r'Normalized Frequency (x$\\pi$rad/sample)')\n",
      "plt.show()"
     ],
     "language": "python",
     "metadata": {},
     "outputs": [
      {
       "output_type": "stream",
       "stream": "stdout",
       "text": [
        "Populating the interactive namespace from numpy and matplotlib\n"
       ]
      },
      {
       "metadata": {},
       "output_type": "display_data",
       "png": "[encoded data removed]",
       "text": [
        "<matplotlib.figure.Figure at 0x10c433050>"
       ]
      }
     ],
     "prompt_number": 3
    },
    {
     "cell_type": "code",
     "collapsed": false,
     "input": [],
     "language": "python",
     "metadata": {},
     "outputs": []
    }
   ],
   "metadata": {}
  }
 ]
}